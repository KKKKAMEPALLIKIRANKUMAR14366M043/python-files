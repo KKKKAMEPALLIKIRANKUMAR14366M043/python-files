{
 "cells": [
  {
   "cell_type": "markdown",
   "metadata": {},
   "source": [
    "## to print numbers divisible by 6and factor of 100"
   ]
  },
  {
   "cell_type": "code",
   "execution_count": 28,
   "metadata": {},
   "outputs": [
    {
     "name": "stdout",
     "output_type": "stream",
     "text": [
      "enter the lower boundary 1\n",
      "enter the upper boundary 20\n",
      "6\n",
      "12\n",
      "18\n"
     ]
    }
   ],
   "source": [
    "# print the numbers which are divisble 6 and not factor of the 100\n",
    "lb=int(input(\"enter the lower boundary \"))\n",
    "ub=int(input(\"enter the upper boundary \"))\n",
    "f=6\n",
    "def div(lb,f):\n",
    "        if i%f==0and(100%i)!=0:\n",
    "            print(i)\n",
    "for i in range(lb,ub+1):\n",
    "    div(i,f)"
   ]
  },
  {
   "cell_type": "code",
   "execution_count": 32,
   "metadata": {},
   "outputs": [
    {
     "name": "stdout",
     "output_type": "stream",
     "text": [
      "enter the lower boundary 1\n",
      "enter the upper boundary 20\n",
      "6\n",
      "12\n",
      "18\n"
     ]
    }
   ],
   "source": [
    "# print the numbers which are divisble 6 and not factor of the 100\n",
    "lb=int(input(\"enter the lower boundary \"))\n",
    "ub=int(input(\"enter the upper boundary \"))\n",
    "f=6\n",
    "def div(lb,f):\n",
    "        if i%f==0&100%i==0:\n",
    "            print(i)           \n",
    "for i in range(lb,ub+1):\n",
    "    div(i,f)   "
   ]
  },
  {
   "cell_type": "markdown",
   "metadata": {},
   "source": [
    "## avg of cubes of even numbers"
   ]
  },
  {
   "cell_type": "code",
   "execution_count": 94,
   "metadata": {},
   "outputs": [
    {
     "name": "stdout",
     "output_type": "stream",
     "text": [
      "1\n",
      "5\n",
      "36\n"
     ]
    }
   ],
   "source": [
    "# avg of cubes of the even numbers\n",
    "lb=int(input())\n",
    "ub=int(input())\n",
    "def cubes(lb,ub):\n",
    "    c=0\n",
    "    count=0\n",
    "    for i in range(lb,ub+1):\n",
    "        if i%2==0:\n",
    "            count=count+1\n",
    "            c=c+(i**3)\n",
    "    print(c//count)     \n",
    "cubes(lb,ub)\n",
    " \n",
    "   "
   ]
  },
  {
   "cell_type": "markdown",
   "metadata": {},
   "source": [
    "## dic"
   ]
  },
  {
   "cell_type": "code",
   "execution_count": 26,
   "metadata": {},
   "outputs": [
    {
     "ename": "SyntaxError",
     "evalue": "invalid syntax (<ipython-input-26-bae2b86f9c30>, line 8)",
     "output_type": "error",
     "traceback": [
      "\u001b[1;36m  File \u001b[1;32m\"<ipython-input-26-bae2b86f9c30>\"\u001b[1;36m, line \u001b[1;32m8\u001b[0m\n\u001b[1;33m    print(t)\u001b[0m\n\u001b[1;37m        ^\u001b[0m\n\u001b[1;31mSyntaxError\u001b[0m\u001b[1;31m:\u001b[0m invalid syntax\n"
     ]
    }
   ],
   "source": [
    "d={\"a\":65,\"b\":82,\"c\":36,\"d\":85}\n",
    "k=d\n",
    "top=max(d.values())\n",
    "for j in d:\n",
    "    print(j,\"->\",d[j])\n",
    "for j in k:\n",
    "    t=max(d.values())"
   ]
  },
  {
   "cell_type": "code",
   "execution_count": null,
   "metadata": {},
   "outputs": [],
   "source": []
  }
 ],
 "metadata": {
  "kernelspec": {
   "display_name": "Python 3",
   "language": "python",
   "name": "python3"
  },
  "language_info": {
   "codemirror_mode": {
    "name": "ipython",
    "version": 3
   },
   "file_extension": ".py",
   "mimetype": "text/x-python",
   "name": "python",
   "nbconvert_exporter": "python",
   "pygments_lexer": "ipython3",
   "version": "3.7.3"
  }
 },
 "nbformat": 4,
 "nbformat_minor": 2
}
