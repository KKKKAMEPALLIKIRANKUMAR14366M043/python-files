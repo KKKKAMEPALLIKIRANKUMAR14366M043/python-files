{
 "cells": [
  {
   "cell_type": "markdown",
   "metadata": {},
   "source": [
    "## sample programes"
   ]
  },
  {
   "cell_type": "code",
   "execution_count": 2,
   "metadata": {},
   "outputs": [
    {
     "name": "stdout",
     "output_type": "stream",
     "text": [
      "input name kkk\n",
      "kkk\n"
     ]
    }
   ],
   "source": [
    "k=input(\"input name \")\n",
    "print(k)"
   ]
  },
  {
   "cell_type": "code",
   "execution_count": 9,
   "metadata": {},
   "outputs": [
    {
     "data": {
      "text/plain": [
       "30"
      ]
     },
     "execution_count": 9,
     "metadata": {},
     "output_type": "execute_result"
    }
   ],
   "source": [
    "10+20"
   ]
  },
  {
   "cell_type": "code",
   "execution_count": null,
   "metadata": {},
   "outputs": [],
   "source": [
    "a=int(input(\"enter the first value\"))\n",
    "b=int(input(\"enter the second value\"))\n",
    "c=a*b\n",
    "print(c)"
   ]
  },
  {
   "cell_type": "code",
   "execution_count": 17,
   "metadata": {},
   "outputs": [
    {
     "name": "stdout",
     "output_type": "stream",
     "text": [
      "enter the first value15\n",
      "enter the second value20\n",
      "-5\n"
     ]
    }
   ],
   "source": [
    "a=int(input(\"enter the first value\"))\n",
    "b=int(input(\"enter the second value\"))\n",
    "c=a-b\n",
    "print(c)"
   ]
  },
  {
   "cell_type": "code",
   "execution_count": 22,
   "metadata": {},
   "outputs": [
    {
     "name": "stdout",
     "output_type": "stream",
     "text": [
      "enter the first value15\n",
      "enter the second value3\n",
      "5.0\n"
     ]
    }
   ],
   "source": [
    "a=int(input(\"enter the first value\"))\n",
    "b=int(input(\"enter the second value\"))\n",
    "c=a/b\n",
    "print(c)"
   ]
  },
  {
   "cell_type": "code",
   "execution_count": 20,
   "metadata": {},
   "outputs": [
    {
     "name": "stdout",
     "output_type": "stream",
     "text": [
      "enter the first value15\n",
      "enter the second value30\n",
      "45\n"
     ]
    }
   ],
   "source": [
    "a=int(input(\"enter the first value\"))\n",
    "b=int(input(\"enter the second value\"))\n",
    "c=a+b\n",
    "print(c)"
   ]
  },
  {
   "cell_type": "markdown",
   "metadata": {},
   "source": [
    "## >conditional statements"
   ]
  },
  {
   "cell_type": "code",
   "execution_count": 10,
   "metadata": {},
   "outputs": [
    {
     "name": "stdout",
     "output_type": "stream",
     "text": [
      "enter a value10\n",
      "enter b value10\n",
      "10 == 10 a and b are equal\n"
     ]
    }
   ],
   "source": [
    "a=int(input(\"enter a value\"))\n",
    "b=int(input(\"enter b value\"))\n",
    "if a==b:\n",
    "    print(a,\"==\",b,\"   a and b are equal\")\n",
    "elif a>b:\n",
    "    print(a,\"is greater\")\n",
    "else:\n",
    "    print(b,\"is greater\")"
   ]
  },
  {
   "cell_type": "markdown",
   "metadata": {},
   "source": [
    "## >importing calendar"
   ]
  },
  {
   "cell_type": "code",
   "execution_count": 3,
   "metadata": {},
   "outputs": [
    {
     "name": "stdout",
     "output_type": "stream",
     "text": [
      "     July 1999\n",
      "Mo Tu We Th Fr Sa Su\n",
      "          1  2  3  4\n",
      " 5  6  7  8  9 10 11\n",
      "12 13 14 15 16 17 18\n",
      "19 20 21 22 23 24 25\n",
      "26 27 28 29 30 31\n",
      "\n"
     ]
    }
   ],
   "source": [
    "import calendar\n",
    "year=1999\n",
    "mounth=7\n",
    "a=calendar.month(year,mounth)\n",
    "print(a)"
   ]
  },
  {
   "cell_type": "code",
   "execution_count": 15,
   "metadata": {},
   "outputs": [
    {
     "name": "stdout",
     "output_type": "stream",
     "text": [
      "     July 2019\n",
      "Mo Tu We Th Fr Sa Su\n",
      " 1  2  3  4  5  6  7\n",
      " 8  9 10 11 12 13 14\n",
      "15 16 17 18 19 20 21\n",
      "22 23 24 25 26 27 28\n",
      "29 30 31\n",
      "\n"
     ]
    }
   ],
   "source": [
    "import calendar\n",
    "year=2019\n",
    "month=7\n",
    "a=calendar.month(year,month)\n",
    "print(a)"
   ]
  },
  {
   "cell_type": "code",
   "execution_count": 1,
   "metadata": {},
   "outputs": [
    {
     "name": "stdout",
     "output_type": "stream",
     "text": [
      "enter required year1090\n",
      "ente requried month12\n",
      "   December 1090\n",
      "Mo Tu We Th Fr Sa Su\n",
      " 1  2  3  4  5  6  7\n",
      " 8  9 10 11 12 13 14\n",
      "15 16 17 18 19 20 21\n",
      "22 23 24 25 26 27 28\n",
      "29 30 31\n",
      "\n"
     ]
    }
   ],
   "source": [
    "import calendar\n",
    "year=int(input(\"enter required year\"))\n",
    "month=int(input(\"ente requried month\"))\n",
    "a=calendar.month(year,month)\n",
    "print(a)"
   ]
  },
  {
   "cell_type": "code",
   "execution_count": 2,
   "metadata": {},
   "outputs": [
    {
     "name": "stdout",
     "output_type": "stream",
     "text": [
      "kjfghif\n",
      "<class 'str'>\n"
     ]
    }
   ],
   "source": [
    "a=input()\n",
    "print(type(a))"
   ]
  },
  {
   "cell_type": "markdown",
   "metadata": {},
   "source": [
    "### >loop "
   ]
  },
  {
   "cell_type": "code",
   "execution_count": 2,
   "metadata": {},
   "outputs": [
    {
     "name": "stdout",
     "output_type": "stream",
     "text": [
      "0\n",
      "1\n",
      "2\n",
      "3\n",
      "4\n"
     ]
    }
   ],
   "source": [
    "for i in range(5):\n",
    "    print(i)"
   ]
  },
  {
   "cell_type": "code",
   "execution_count": 6,
   "metadata": {
    "scrolled": true
   },
   "outputs": [
    {
     "name": "stdout",
     "output_type": "stream",
     "text": [
      "kkk\n",
      "kiran\n",
      "kkk\n",
      "kumar\n"
     ]
    }
   ],
   "source": [
    "x=[\"kkk\",\"kiran\"]\n",
    "y=[\"kkk\",\"kumar\"]\n",
    "for i in x:\n",
    "    print(i)\n",
    "for i in y:\n",
    "    print(i)"
   ]
  },
  {
   "cell_type": "code",
   "execution_count": 12,
   "metadata": {},
   "outputs": [
    {
     "name": "stdout",
     "output_type": "stream",
     "text": [
      "['kkk', 'kiran'] ['kkk', 'kumar']\n",
      "['kkk', 'kiran'] ['kkk', 'kumar']\n",
      "['kkk', 'kiran'] ['kkk', 'kumar']\n",
      "['kkk', 'kiran'] ['kkk', 'kumar']\n"
     ]
    }
   ],
   "source": [
    "x=[\"kkk\",\"kiran\"]\n",
    "y=[\"kkk\",\"kumar\"]\n",
    "for i in x:\n",
    "    for j in y:\n",
    "        print(x,y)"
   ]
  },
  {
   "cell_type": "code",
   "execution_count": 13,
   "metadata": {},
   "outputs": [
    {
     "name": "stdout",
     "output_type": "stream",
     "text": [
      "kkk kkk\n",
      "kkk kumar\n",
      "kiran kkk\n",
      "kiran kumar\n"
     ]
    }
   ],
   "source": [
    "x=[\"kkk\",\"kiran\"]\n",
    "y=[\"kkk\",\"kumar\"]\n",
    "for i in x:\n",
    "    for j in y:\n",
    "        print(i,j)"
   ]
  },
  {
   "cell_type": "markdown",
   "metadata": {},
   "source": [
    "### >Functions Concept"
   ]
  },
  {
   "cell_type": "code",
   "execution_count": 15,
   "metadata": {},
   "outputs": [
    {
     "name": "stdout",
     "output_type": "stream",
     "text": [
      "10\n",
      "20\n"
     ]
    },
    {
     "data": {
      "text/plain": [
       "30"
      ]
     },
     "execution_count": 15,
     "metadata": {},
     "output_type": "execute_result"
    }
   ],
   "source": [
    "def add(x,y):\n",
    "    c=x+y\n",
    "    return c\n",
    "a=int(input())\n",
    "b=int(input())\n",
    "add(a,b)"
   ]
  },
  {
   "cell_type": "code",
   "execution_count": 17,
   "metadata": {},
   "outputs": [
    {
     "name": "stdout",
     "output_type": "stream",
     "text": [
      "enter the a value10\n",
      "enter the b value5\n"
     ]
    },
    {
     "data": {
      "text/plain": [
       "5"
      ]
     },
     "execution_count": 17,
     "metadata": {},
     "output_type": "execute_result"
    }
   ],
   "source": [
    "def sub(x,y):\n",
    "    c=x-y\n",
    "    return c\n",
    "a=int(input(\"enter the a value\"))\n",
    "b=int(input(\"enter the b value\"))\n",
    "sub(a,b)"
   ]
  },
  {
   "cell_type": "code",
   "execution_count": 18,
   "metadata": {},
   "outputs": [
    {
     "name": "stdout",
     "output_type": "stream",
     "text": [
      "enter the a value10\n",
      "enter the b value5\n"
     ]
    },
    {
     "data": {
      "text/plain": [
       "50"
      ]
     },
     "execution_count": 18,
     "metadata": {},
     "output_type": "execute_result"
    }
   ],
   "source": [
    "def mul(x,y):\n",
    "    c=x*y\n",
    "    return c\n",
    "a=int(input(\"enter the a value\"))\n",
    "b=int(input(\"enter the b value\"))\n",
    "mul(a,b)"
   ]
  },
  {
   "cell_type": "code",
   "execution_count": 19,
   "metadata": {},
   "outputs": [
    {
     "name": "stdout",
     "output_type": "stream",
     "text": [
      "enter the a value10\n",
      "enter the b value2\n"
     ]
    },
    {
     "data": {
      "text/plain": [
       "5.0"
      ]
     },
     "execution_count": 19,
     "metadata": {},
     "output_type": "execute_result"
    }
   ],
   "source": [
    "def div(x,y):\n",
    "    c=x/y\n",
    "    return c\n",
    "a=int(input(\"enter the a value\"))\n",
    "b=int(input(\"enter the b value\"))\n",
    "div(a,b)"
   ]
  },
  {
   "cell_type": "code",
   "execution_count": 2,
   "metadata": {},
   "outputs": [
    {
     "name": "stdout",
     "output_type": "stream",
     "text": [
      "enter the a value10\n",
      "enter the b value5\n"
     ]
    },
    {
     "data": {
      "text/plain": [
       "0"
      ]
     },
     "execution_count": 2,
     "metadata": {},
     "output_type": "execute_result"
    }
   ],
   "source": [
    "def pri(x,y):\n",
    "    c=x%y\n",
    "    return c\n",
    "a=int(input(\"enter the a value\"))\n",
    "b=int(input(\"enter the b value\"))\n",
    "pri(a,b)"
   ]
  },
  {
   "cell_type": "code",
   "execution_count": 7,
   "metadata": {},
   "outputs": [
    {
     "name": "stdout",
     "output_type": "stream",
     "text": [
      "enter the a value6\n",
      "enter the b value3\n",
      "sum is 9\n",
      "subtraction is 3\n",
      "multification is  18\n",
      "division is 2.0\n"
     ]
    }
   ],
   "source": [
    "def add(x,y):\n",
    "    c=x+y\n",
    "    return c\n",
    "def sub(x,y):\n",
    "    c=x-y\n",
    "    return c\n",
    "def mul(x,y):\n",
    "    c=x*y\n",
    "    return c\n",
    "def div(x,y):\n",
    "    c=x/y\n",
    "    return c\n",
    "a=int(input(\"enter the a value\"))\n",
    "b=int(input(\"enter the b value\"))\n",
    "print(\"sum is\",add(a,b))\n",
    "print(\"subtraction is\",sub(a,b))\n",
    "print(\"multification is \",mul(a,b))\n",
    "print(\"division is\",div(a,b))"
   ]
  },
  {
   "cell_type": "code",
   "execution_count": 22,
   "metadata": {},
   "outputs": [
    {
     "name": "stdout",
     "output_type": "stream",
     "text": [
      "enter the wanted table is  5\n",
      "5 x 1 = 5\n",
      "5 x 2 = 10\n",
      "5 x 3 = 15\n",
      "5 x 4 = 20\n",
      "5 x 5 = 25\n",
      "5 x 6 = 30\n",
      "5 x 7 = 35\n",
      "5 x 8 = 40\n",
      "5 x 9 = 45\n",
      "5 x 10 = 50\n"
     ]
    }
   ],
   "source": [
    "n=int(input(\"enter the wanted table is  \"))\n",
    "for i in range(1,11):\n",
    "    print(n,\"x\",i,\"=\",n*i)\n",
    "\n",
    "\n"
   ]
  },
  {
   "cell_type": "code",
   "execution_count": 7,
   "metadata": {},
   "outputs": [
    {
     "name": "stdout",
     "output_type": "stream",
     "text": [
      "5\n",
      "5 is not prime\n"
     ]
    }
   ],
   "source": [
    "def pri(n):\n",
    "    if (n%2==0):\n",
    "        print(n,\"is prime\")\n",
    "    else:\n",
    "        print(n,\"is not prime\")\n",
    "n=int(input())\n",
    "pri(n)"
   ]
  },
  {
   "cell_type": "code",
   "execution_count": 11,
   "metadata": {},
   "outputs": [
    {
     "ename": "SyntaxError",
     "evalue": "invalid syntax (<ipython-input-11-d8d4660252f8>, line 4)",
     "output_type": "error",
     "traceback": [
      "\u001b[1;36m  File \u001b[1;32m\"<ipython-input-11-d8d4660252f8>\"\u001b[1;36m, line \u001b[1;32m4\u001b[0m\n\u001b[1;33m    else\u001b[0m\n\u001b[1;37m         ^\u001b[0m\n\u001b[1;31mSyntaxError\u001b[0m\u001b[1;31m:\u001b[0m invalid syntax\n"
     ]
    }
   ],
   "source": [
    "def pri(n):\n",
    "    if (n%2==0):\n",
    "        print(n,\"is prime\")\n",
    "    else \n",
    "    for n in range(1,10):\n",
    "n=int(input())\n",
    "pri(n)"
   ]
  },
  {
   "cell_type": "code",
   "execution_count": null,
   "metadata": {},
   "outputs": [],
   "source": []
  }
 ],
 "metadata": {
  "kernelspec": {
   "display_name": "Python 3",
   "language": "python",
   "name": "python3"
  },
  "language_info": {
   "codemirror_mode": {
    "name": "ipython",
    "version": 3
   },
   "file_extension": ".py",
   "mimetype": "text/x-python",
   "name": "python",
   "nbconvert_exporter": "python",
   "pygments_lexer": "ipython3",
   "version": "3.7.3"
  }
 },
 "nbformat": 4,
 "nbformat_minor": 2
}
