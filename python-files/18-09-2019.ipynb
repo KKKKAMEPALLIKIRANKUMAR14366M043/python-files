{
 "cells": [
  {
   "cell_type": "markdown",
   "metadata": {},
   "source": [
    "## 7 segment display"
   ]
  },
  {
   "cell_type": "code",
   "execution_count": 33,
   "metadata": {},
   "outputs": [
    {
     "name": "stdout",
     "output_type": "stream",
     "text": [
      "123\n",
      "no of sticks requried   12\n"
     ]
    }
   ],
   "source": [
    "d={0:6,1:2,2:5,3:5,4:4,5:5,6:6,7:3,8:7,9:6}\n",
    "n=input()\n",
    "c=0\n",
    "for i in n:\n",
    "    c=c+d[int(i)]\n",
    "print(\"no of sticks requried  \",c)"
   ]
  },
  {
   "cell_type": "markdown",
   "metadata": {},
   "source": [
    "## cooridinates "
   ]
  },
  {
   "cell_type": "code",
   "execution_count": 44,
   "metadata": {},
   "outputs": [
    {
     "name": "stdout",
     "output_type": "stream",
     "text": [
      "enterllrddr\n",
      "0 -2\n"
     ]
    }
   ],
   "source": [
    "n=input(\"enter\")\n",
    "x=0\n",
    "y=0\n",
    "for i in n:\n",
    "    if i=='l':\n",
    "        x=x-1\n",
    "    if i=='r':\n",
    "        x=x+1\n",
    "    if i=='d':\n",
    "        y=y-1\n",
    "    if i=='u':\n",
    "        y=y+1\n",
    "print(x,y)"
   ]
  },
  {
   "cell_type": "markdown",
   "metadata": {},
   "source": [
    "## dictionary model cooridinates "
   ]
  },
  {
   "cell_type": "code",
   "execution_count": 46,
   "metadata": {},
   "outputs": [
    {
     "name": "stdout",
     "output_type": "stream",
     "text": [
      "ljhhk\n",
      "-1 0\n"
     ]
    }
   ],
   "source": [
    "n=input()\n",
    "d={\"l\":-1,\"r\":+1,\"u\":+1,\"d\":-1}\n",
    "x=0\n",
    "y=0\n",
    "for i in n:\n",
    "    if i=='l' or i=='r':\n",
    "        x=x+d[i]\n",
    "    elif i=='u' or i=='d':\n",
    "        y=y+d[i]\n",
    "print(x,y)"
   ]
  },
  {
   "cell_type": "markdown",
   "metadata": {},
   "source": [
    "## files concept"
   ]
  },
  {
   "cell_type": "code",
   "execution_count": 51,
   "metadata": {},
   "outputs": [],
   "source": [
    "files=\"./files/sample.txt\"\n",
    "with open(files,'w') as f :\n",
    "    f.write(\"this is my line 1\"\n",
    "            \"this is line 2\" \n",
    "            \"this is line 3\")\n"
   ]
  },
  {
   "cell_type": "code",
   "execution_count": null,
   "metadata": {},
   "outputs": [],
   "source": []
  }
 ],
 "metadata": {
  "kernelspec": {
   "display_name": "Python 3",
   "language": "python",
   "name": "python3"
  },
  "language_info": {
   "codemirror_mode": {
    "name": "ipython",
    "version": 3
   },
   "file_extension": ".py",
   "mimetype": "text/x-python",
   "name": "python",
   "nbconvert_exporter": "python",
   "pygments_lexer": "ipython3",
   "version": "3.7.3"
  }
 },
 "nbformat": 4,
 "nbformat_minor": 2
}
