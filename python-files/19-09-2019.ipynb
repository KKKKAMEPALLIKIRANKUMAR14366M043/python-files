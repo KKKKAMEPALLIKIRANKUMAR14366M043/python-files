{
 "cells": [
  {
   "cell_type": "markdown",
   "metadata": {},
   "source": [
    "## files new lines "
   ]
  },
  {
   "cell_type": "code",
   "execution_count": 21,
   "metadata": {},
   "outputs": [],
   "source": [
    "files=\"./files/sample.txt\"\n",
    "with open(files,'w') as f:\n",
    "    f.write(\"this is my line 1 \\n\"\n",
    "            \"this is line 2 \\n\" \n",
    "            \"this is line 3 \\n\"\n",
    "           \"this is line 4  \\n\")"
   ]
  },
  {
   "cell_type": "code",
   "execution_count": 73,
   "metadata": {
    "scrolled": true
   },
   "outputs": [
    {
     "name": "stdout",
     "output_type": "stream",
     "text": [
      "this is my line 1 \n",
      "this is line 2 \n",
      "this is line 3 \n",
      "this is line 4  \n",
      "\n"
     ]
    }
   ],
   "source": [
    "files=\"./files/sample.txt\"\n",
    "with open(files,'r') as f:\n",
    "    d=f.read()\n",
    "    print(d)"
   ]
  },
  {
   "cell_type": "markdown",
   "metadata": {},
   "source": [
    "## adding lines to files"
   ]
  },
  {
   "cell_type": "code",
   "execution_count": 22,
   "metadata": {
    "scrolled": true
   },
   "outputs": [
    {
     "name": "stdout",
     "output_type": "stream",
     "text": [
      "this is my line 1 \n",
      "this is line 2 \n",
      "this is line 3 \n",
      "this is line 4  \n",
      "this is line 5 \n",
      " this is line 6\n"
     ]
    }
   ],
   "source": [
    "files=\"./files/sample.txt\"\n",
    "with open(files,'a') as f:\n",
    "    f.write(\"this is line 5 \\n this is line 6\")\n",
    "with open(files,'r') as f:\n",
    "    d=f.read()\n",
    "    print(d)"
   ]
  },
  {
   "cell_type": "code",
   "execution_count": 41,
   "metadata": {
    "scrolled": true
   },
   "outputs": [
    {
     "name": "stdout",
     "output_type": "stream",
     "text": [
      "this is line 2 \n",
      "\n"
     ]
    }
   ],
   "source": [
    "files=\"./files/sample.txt\"\n",
    "with open(files,'r') as f:\n",
    "    d=f.readlines()\n",
    "    n=int(input(\"enter the required line no \"))\n",
    "    n=n-1\n",
    "    print(d[n])"
   ]
  },
  {
   "cell_type": "code",
   "execution_count": 47,
   "metadata": {},
   "outputs": [
    {
     "name": "stdout",
     "output_type": "stream",
     "text": [
      "this is line 2 \n",
      "\n"
     ]
    }
   ],
   "source": [
    "files=\"./files/sample.txt\"\n",
    "with open(files,'r') as f:\n",
    "    d=f.readlines()\n",
    "    print(d[1])"
   ]
  },
  {
   "cell_type": "markdown",
   "metadata": {},
   "source": [
    "## filtering in list without using dictionaries and set"
   ]
  },
  {
   "cell_type": "code",
   "execution_count": 49,
   "metadata": {},
   "outputs": [
    {
     "name": "stdout",
     "output_type": "stream",
     "text": [
      "['kiran', 'kumar', 'kamepalli']\n"
     ]
    }
   ],
   "source": [
    "l=[\"kiran\",\"kumar\",\"kamepalli\",\"kiran\",\"kumar\"]\n",
    "t=[]\n",
    "for i in l:\n",
    "    if i not in t:\n",
    "        t.append(i)\n",
    "print(t)"
   ]
  },
  {
   "cell_type": "markdown",
   "metadata": {},
   "source": [
    "## finding the names in list"
   ]
  },
  {
   "cell_type": "markdown",
   "metadata": {},
   "source": [
    "l=[\"kiran\",\"kumar\",\"kamepalli\"]\n",
    "n=input(\"which has to be find in list     \")\n",
    "if n in l:\n",
    "    print(\"Yes\")\n",
    "else:\n",
    "    print(\"NO\")"
   ]
  },
  {
   "cell_type": "markdown",
   "metadata": {},
   "source": [
    "## integers are given"
   ]
  },
  {
   "cell_type": "code",
   "execution_count": 11,
   "metadata": {},
   "outputs": [
    {
     "name": "stdout",
     "output_type": "stream",
     "text": [
      "1\n",
      "15\n",
      "3\n",
      "total no count   5\n"
     ]
    }
   ],
   "source": [
    "l=int(input())\n",
    "r=int(input())\n",
    "k=int(input())\n",
    "c=0\n",
    "for i in range(l,r+1):\n",
    "    if i%k==0:\n",
    "        c=c+1\n",
    "print(\"total no count  \",c)"
   ]
  },
  {
   "cell_type": "code",
   "execution_count": 27,
   "metadata": {},
   "outputs": [
    {
     "name": "stdout",
     "output_type": "stream",
     "text": [
      "1 15 3\n",
      "total no count   5\n"
     ]
    }
   ],
   "source": [
    "n=input()\n",
    "n=n.split()\n",
    "lb=int(n[0])\n",
    "ub=int(n[1])\n",
    "k=int(n[2])\n",
    "c=0\n",
    "for i in range(lb,ub+1):\n",
    "    if i%k==0:\n",
    "        c=c+1\n",
    "print(\"total no count  \",c)"
   ]
  },
  {
   "cell_type": "code",
   "execution_count": null,
   "metadata": {},
   "outputs": [],
   "source": []
  }
 ],
 "metadata": {
  "kernelspec": {
   "display_name": "Python 3",
   "language": "python",
   "name": "python3"
  },
  "language_info": {
   "codemirror_mode": {
    "name": "ipython",
    "version": 3
   },
   "file_extension": ".py",
   "mimetype": "text/x-python",
   "name": "python",
   "nbconvert_exporter": "python",
   "pygments_lexer": "ipython3",
   "version": "3.7.3"
  }
 },
 "nbformat": 4,
 "nbformat_minor": 2
}
